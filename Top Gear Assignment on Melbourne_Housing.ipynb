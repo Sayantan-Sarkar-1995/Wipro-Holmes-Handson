{
 "cells": [
  {
   "cell_type": "code",
   "execution_count": 1,
   "metadata": {},
   "outputs": [],
   "source": [
    "import pandas as pd\n",
    "import numpy as np"
   ]
  },
  {
   "cell_type": "code",
   "execution_count": 2,
   "metadata": {},
   "outputs": [],
   "source": [
    "#Import Dataset\n",
    "data = pd.read_csv(\"G:\\PythonCode\\Melbourne_housing_FULL.csv\\Melbourne_housing_FULL.csv\")"
   ]
  },
  {
   "cell_type": "code",
   "execution_count": 3,
   "metadata": {},
   "outputs": [
    {
     "data": {
      "text/html": [
       "<div>\n",
       "<style scoped>\n",
       "    .dataframe tbody tr th:only-of-type {\n",
       "        vertical-align: middle;\n",
       "    }\n",
       "\n",
       "    .dataframe tbody tr th {\n",
       "        vertical-align: top;\n",
       "    }\n",
       "\n",
       "    .dataframe thead th {\n",
       "        text-align: right;\n",
       "    }\n",
       "</style>\n",
       "<table border=\"1\" class=\"dataframe\">\n",
       "  <thead>\n",
       "    <tr style=\"text-align: right;\">\n",
       "      <th></th>\n",
       "      <th>Suburb</th>\n",
       "      <th>Address</th>\n",
       "      <th>Rooms</th>\n",
       "      <th>Type</th>\n",
       "      <th>Price</th>\n",
       "      <th>Method</th>\n",
       "      <th>SellerG</th>\n",
       "      <th>Date</th>\n",
       "      <th>Distance</th>\n",
       "      <th>Postcode</th>\n",
       "      <th>...</th>\n",
       "      <th>Bathroom</th>\n",
       "      <th>Car</th>\n",
       "      <th>Landsize</th>\n",
       "      <th>BuildingArea</th>\n",
       "      <th>YearBuilt</th>\n",
       "      <th>CouncilArea</th>\n",
       "      <th>Lattitude</th>\n",
       "      <th>Longtitude</th>\n",
       "      <th>Regionname</th>\n",
       "      <th>Propertycount</th>\n",
       "    </tr>\n",
       "  </thead>\n",
       "  <tbody>\n",
       "    <tr>\n",
       "      <th>0</th>\n",
       "      <td>Abbotsford</td>\n",
       "      <td>68 Studley St</td>\n",
       "      <td>2</td>\n",
       "      <td>h</td>\n",
       "      <td>NaN</td>\n",
       "      <td>SS</td>\n",
       "      <td>Jellis</td>\n",
       "      <td>3/09/2016</td>\n",
       "      <td>2.5</td>\n",
       "      <td>3067.0</td>\n",
       "      <td>...</td>\n",
       "      <td>1.0</td>\n",
       "      <td>1.0</td>\n",
       "      <td>126.0</td>\n",
       "      <td>NaN</td>\n",
       "      <td>NaN</td>\n",
       "      <td>Yarra City Council</td>\n",
       "      <td>-37.8014</td>\n",
       "      <td>144.9958</td>\n",
       "      <td>Northern Metropolitan</td>\n",
       "      <td>4019.0</td>\n",
       "    </tr>\n",
       "    <tr>\n",
       "      <th>1</th>\n",
       "      <td>Abbotsford</td>\n",
       "      <td>85 Turner St</td>\n",
       "      <td>2</td>\n",
       "      <td>h</td>\n",
       "      <td>1480000.0</td>\n",
       "      <td>S</td>\n",
       "      <td>Biggin</td>\n",
       "      <td>3/12/2016</td>\n",
       "      <td>2.5</td>\n",
       "      <td>3067.0</td>\n",
       "      <td>...</td>\n",
       "      <td>1.0</td>\n",
       "      <td>1.0</td>\n",
       "      <td>202.0</td>\n",
       "      <td>NaN</td>\n",
       "      <td>NaN</td>\n",
       "      <td>Yarra City Council</td>\n",
       "      <td>-37.7996</td>\n",
       "      <td>144.9984</td>\n",
       "      <td>Northern Metropolitan</td>\n",
       "      <td>4019.0</td>\n",
       "    </tr>\n",
       "    <tr>\n",
       "      <th>2</th>\n",
       "      <td>Abbotsford</td>\n",
       "      <td>25 Bloomburg St</td>\n",
       "      <td>2</td>\n",
       "      <td>h</td>\n",
       "      <td>1035000.0</td>\n",
       "      <td>S</td>\n",
       "      <td>Biggin</td>\n",
       "      <td>4/02/2016</td>\n",
       "      <td>2.5</td>\n",
       "      <td>3067.0</td>\n",
       "      <td>...</td>\n",
       "      <td>1.0</td>\n",
       "      <td>0.0</td>\n",
       "      <td>156.0</td>\n",
       "      <td>79.0</td>\n",
       "      <td>1900.0</td>\n",
       "      <td>Yarra City Council</td>\n",
       "      <td>-37.8079</td>\n",
       "      <td>144.9934</td>\n",
       "      <td>Northern Metropolitan</td>\n",
       "      <td>4019.0</td>\n",
       "    </tr>\n",
       "    <tr>\n",
       "      <th>3</th>\n",
       "      <td>Abbotsford</td>\n",
       "      <td>18/659 Victoria St</td>\n",
       "      <td>3</td>\n",
       "      <td>u</td>\n",
       "      <td>NaN</td>\n",
       "      <td>VB</td>\n",
       "      <td>Rounds</td>\n",
       "      <td>4/02/2016</td>\n",
       "      <td>2.5</td>\n",
       "      <td>3067.0</td>\n",
       "      <td>...</td>\n",
       "      <td>2.0</td>\n",
       "      <td>1.0</td>\n",
       "      <td>0.0</td>\n",
       "      <td>NaN</td>\n",
       "      <td>NaN</td>\n",
       "      <td>Yarra City Council</td>\n",
       "      <td>-37.8114</td>\n",
       "      <td>145.0116</td>\n",
       "      <td>Northern Metropolitan</td>\n",
       "      <td>4019.0</td>\n",
       "    </tr>\n",
       "    <tr>\n",
       "      <th>4</th>\n",
       "      <td>Abbotsford</td>\n",
       "      <td>5 Charles St</td>\n",
       "      <td>3</td>\n",
       "      <td>h</td>\n",
       "      <td>1465000.0</td>\n",
       "      <td>SP</td>\n",
       "      <td>Biggin</td>\n",
       "      <td>4/03/2017</td>\n",
       "      <td>2.5</td>\n",
       "      <td>3067.0</td>\n",
       "      <td>...</td>\n",
       "      <td>2.0</td>\n",
       "      <td>0.0</td>\n",
       "      <td>134.0</td>\n",
       "      <td>150.0</td>\n",
       "      <td>1900.0</td>\n",
       "      <td>Yarra City Council</td>\n",
       "      <td>-37.8093</td>\n",
       "      <td>144.9944</td>\n",
       "      <td>Northern Metropolitan</td>\n",
       "      <td>4019.0</td>\n",
       "    </tr>\n",
       "  </tbody>\n",
       "</table>\n",
       "<p>5 rows × 21 columns</p>\n",
       "</div>"
      ],
      "text/plain": [
       "       Suburb             Address  Rooms Type      Price Method SellerG  \\\n",
       "0  Abbotsford       68 Studley St      2    h        NaN     SS  Jellis   \n",
       "1  Abbotsford        85 Turner St      2    h  1480000.0      S  Biggin   \n",
       "2  Abbotsford     25 Bloomburg St      2    h  1035000.0      S  Biggin   \n",
       "3  Abbotsford  18/659 Victoria St      3    u        NaN     VB  Rounds   \n",
       "4  Abbotsford        5 Charles St      3    h  1465000.0     SP  Biggin   \n",
       "\n",
       "        Date  Distance  Postcode  ...  Bathroom  Car  Landsize  BuildingArea  \\\n",
       "0  3/09/2016       2.5    3067.0  ...       1.0  1.0     126.0           NaN   \n",
       "1  3/12/2016       2.5    3067.0  ...       1.0  1.0     202.0           NaN   \n",
       "2  4/02/2016       2.5    3067.0  ...       1.0  0.0     156.0          79.0   \n",
       "3  4/02/2016       2.5    3067.0  ...       2.0  1.0       0.0           NaN   \n",
       "4  4/03/2017       2.5    3067.0  ...       2.0  0.0     134.0         150.0   \n",
       "\n",
       "   YearBuilt         CouncilArea Lattitude  Longtitude             Regionname  \\\n",
       "0        NaN  Yarra City Council  -37.8014    144.9958  Northern Metropolitan   \n",
       "1        NaN  Yarra City Council  -37.7996    144.9984  Northern Metropolitan   \n",
       "2     1900.0  Yarra City Council  -37.8079    144.9934  Northern Metropolitan   \n",
       "3        NaN  Yarra City Council  -37.8114    145.0116  Northern Metropolitan   \n",
       "4     1900.0  Yarra City Council  -37.8093    144.9944  Northern Metropolitan   \n",
       "\n",
       "  Propertycount  \n",
       "0        4019.0  \n",
       "1        4019.0  \n",
       "2        4019.0  \n",
       "3        4019.0  \n",
       "4        4019.0  \n",
       "\n",
       "[5 rows x 21 columns]"
      ]
     },
     "execution_count": 3,
     "metadata": {},
     "output_type": "execute_result"
    }
   ],
   "source": [
    "#View Dataset\n",
    "data.head()"
   ]
  },
  {
   "cell_type": "code",
   "execution_count": 4,
   "metadata": {},
   "outputs": [
    {
     "name": "stdout",
     "output_type": "stream",
     "text": [
      "The number of data present :\n",
      " Suburb           34857\n",
      "Address          34857\n",
      "Rooms            34857\n",
      "Type             34857\n",
      "Price            27247\n",
      "Method           34857\n",
      "SellerG          34857\n",
      "Date             34857\n",
      "Distance         34856\n",
      "Postcode         34856\n",
      "Bedroom2         26640\n",
      "Bathroom         26631\n",
      "Car              26129\n",
      "Landsize         23047\n",
      "BuildingArea     13742\n",
      "YearBuilt        15551\n",
      "CouncilArea      34854\n",
      "Lattitude        26881\n",
      "Longtitude       26881\n",
      "Regionname       34854\n",
      "Propertycount    34854\n",
      "dtype: int64\n"
     ]
    }
   ],
   "source": [
    "print(\"The number of data present :\\n\", data.count())"
   ]
  },
  {
   "cell_type": "code",
   "execution_count": 5,
   "metadata": {},
   "outputs": [
    {
     "name": "stdout",
     "output_type": "stream",
     "text": [
      "The number of rows and columns :\n",
      " (34857, 21)\n"
     ]
    }
   ],
   "source": [
    "#Shape of the dataframe before removing Duplicate Data\n",
    "\n",
    "print(\"The number of rows and columns :\\n\", data.shape)"
   ]
  },
  {
   "cell_type": "code",
   "execution_count": 6,
   "metadata": {},
   "outputs": [
    {
     "name": "stdout",
     "output_type": "stream",
     "text": [
      "<class 'pandas.core.frame.DataFrame'>\n",
      "RangeIndex: 34857 entries, 0 to 34856\n",
      "Data columns (total 21 columns):\n",
      " #   Column         Non-Null Count  Dtype  \n",
      "---  ------         --------------  -----  \n",
      " 0   Suburb         34857 non-null  object \n",
      " 1   Address        34857 non-null  object \n",
      " 2   Rooms          34857 non-null  int64  \n",
      " 3   Type           34857 non-null  object \n",
      " 4   Price          27247 non-null  float64\n",
      " 5   Method         34857 non-null  object \n",
      " 6   SellerG        34857 non-null  object \n",
      " 7   Date           34857 non-null  object \n",
      " 8   Distance       34856 non-null  float64\n",
      " 9   Postcode       34856 non-null  float64\n",
      " 10  Bedroom2       26640 non-null  float64\n",
      " 11  Bathroom       26631 non-null  float64\n",
      " 12  Car            26129 non-null  float64\n",
      " 13  Landsize       23047 non-null  float64\n",
      " 14  BuildingArea   13742 non-null  float64\n",
      " 15  YearBuilt      15551 non-null  float64\n",
      " 16  CouncilArea    34854 non-null  object \n",
      " 17  Lattitude      26881 non-null  float64\n",
      " 18  Longtitude     26881 non-null  float64\n",
      " 19  Regionname     34854 non-null  object \n",
      " 20  Propertycount  34854 non-null  float64\n",
      "dtypes: float64(12), int64(1), object(8)\n",
      "memory usage: 5.6+ MB\n"
     ]
    }
   ],
   "source": [
    "#To check the number of attributes having numerical and other datatypes\n",
    "data.info()"
   ]
  },
  {
   "cell_type": "code",
   "execution_count": 7,
   "metadata": {},
   "outputs": [
    {
     "data": {
      "text/html": [
       "<div>\n",
       "<style scoped>\n",
       "    .dataframe tbody tr th:only-of-type {\n",
       "        vertical-align: middle;\n",
       "    }\n",
       "\n",
       "    .dataframe tbody tr th {\n",
       "        vertical-align: top;\n",
       "    }\n",
       "\n",
       "    .dataframe thead th {\n",
       "        text-align: right;\n",
       "    }\n",
       "</style>\n",
       "<table border=\"1\" class=\"dataframe\">\n",
       "  <thead>\n",
       "    <tr style=\"text-align: right;\">\n",
       "      <th></th>\n",
       "      <th>Suburb</th>\n",
       "      <th>Address</th>\n",
       "      <th>Rooms</th>\n",
       "      <th>Type</th>\n",
       "      <th>Price</th>\n",
       "      <th>Method</th>\n",
       "      <th>SellerG</th>\n",
       "      <th>Date</th>\n",
       "      <th>Distance</th>\n",
       "      <th>Postcode</th>\n",
       "      <th>...</th>\n",
       "      <th>Bathroom</th>\n",
       "      <th>Car</th>\n",
       "      <th>Landsize</th>\n",
       "      <th>BuildingArea</th>\n",
       "      <th>YearBuilt</th>\n",
       "      <th>CouncilArea</th>\n",
       "      <th>Lattitude</th>\n",
       "      <th>Longtitude</th>\n",
       "      <th>Regionname</th>\n",
       "      <th>Propertycount</th>\n",
       "    </tr>\n",
       "  </thead>\n",
       "  <tbody>\n",
       "    <tr>\n",
       "      <th>15858</th>\n",
       "      <td>Nunawading</td>\n",
       "      <td>1/7 Lilian St</td>\n",
       "      <td>3</td>\n",
       "      <td>t</td>\n",
       "      <td>NaN</td>\n",
       "      <td>SP</td>\n",
       "      <td>Jellis</td>\n",
       "      <td>17/06/2017</td>\n",
       "      <td>15.4</td>\n",
       "      <td>3131.0</td>\n",
       "      <td>...</td>\n",
       "      <td>3.0</td>\n",
       "      <td>2.0</td>\n",
       "      <td>405.0</td>\n",
       "      <td>226.0</td>\n",
       "      <td>2000.0</td>\n",
       "      <td>Manningham City Council</td>\n",
       "      <td>-37.82678</td>\n",
       "      <td>145.16777</td>\n",
       "      <td>Eastern Metropolitan</td>\n",
       "      <td>4973.0</td>\n",
       "    </tr>\n",
       "  </tbody>\n",
       "</table>\n",
       "<p>1 rows × 21 columns</p>\n",
       "</div>"
      ],
      "text/plain": [
       "           Suburb        Address  Rooms Type  Price Method SellerG  \\\n",
       "15858  Nunawading  1/7 Lilian St      3    t    NaN     SP  Jellis   \n",
       "\n",
       "             Date  Distance  Postcode  ...  Bathroom  Car  Landsize  \\\n",
       "15858  17/06/2017      15.4    3131.0  ...       3.0  2.0     405.0   \n",
       "\n",
       "       BuildingArea  YearBuilt              CouncilArea Lattitude  Longtitude  \\\n",
       "15858         226.0     2000.0  Manningham City Council -37.82678   145.16777   \n",
       "\n",
       "                 Regionname Propertycount  \n",
       "15858  Eastern Metropolitan        4973.0  \n",
       "\n",
       "[1 rows x 21 columns]"
      ]
     },
     "execution_count": 7,
     "metadata": {},
     "output_type": "execute_result"
    }
   ],
   "source": [
    "#Duplicate data detection\n",
    "\n",
    "dup_data = data[data.duplicated()]\n",
    "dup_data"
   ]
  },
  {
   "cell_type": "code",
   "execution_count": 8,
   "metadata": {},
   "outputs": [
    {
     "data": {
      "text/plain": [
       "(34856, 21)"
      ]
     },
     "execution_count": 8,
     "metadata": {},
     "output_type": "execute_result"
    }
   ],
   "source": [
    "#Dropping Duplicate value and inserting in a new dataframe\n",
    "#Determining the shape of dataframe\n",
    "\n",
    "data_new = data.drop_duplicates()\n",
    "data_new.shape"
   ]
  },
  {
   "cell_type": "code",
   "execution_count": 9,
   "metadata": {},
   "outputs": [
    {
     "data": {
      "text/plain": [
       "Suburb               0\n",
       "Address              0\n",
       "Rooms                0\n",
       "Type                 0\n",
       "Price             7610\n",
       "Method               0\n",
       "SellerG              0\n",
       "Date                 0\n",
       "Distance             1\n",
       "Postcode             1\n",
       "Bedroom2          8217\n",
       "Bathroom          8226\n",
       "Car               8728\n",
       "Landsize         11810\n",
       "BuildingArea     21115\n",
       "YearBuilt        19306\n",
       "CouncilArea          3\n",
       "Lattitude         7976\n",
       "Longtitude        7976\n",
       "Regionname           3\n",
       "Propertycount        3\n",
       "dtype: int64"
      ]
     },
     "execution_count": 9,
     "metadata": {},
     "output_type": "execute_result"
    }
   ],
   "source": [
    "#Determining null values\n",
    "\n",
    "data.isna().sum()"
   ]
  },
  {
   "cell_type": "code",
   "execution_count": 10,
   "metadata": {},
   "outputs": [],
   "source": [
    "#Filling up the Integer Missing values\n",
    "\n",
    "data['Price'].fillna(data['Price'].mean(), inplace = True)\n",
    "data['Distance'].fillna(data['Distance'].mean(), inplace = True)\n",
    "data['Postcode'].fillna(0, inplace = True)\n",
    "data['Bedroom2'].fillna(data['Bedroom2'].mean(), inplace = True)\n",
    "data['Bathroom'].fillna(data['Bathroom'].mean(), inplace = True)\n",
    "data['Car'].fillna(data['Car'].mean(), inplace = True)\n",
    "data['Landsize'].fillna(data['Landsize'].mean(), inplace = True)\n",
    "data['BuildingArea'].fillna(data['BuildingArea'].mean(), inplace = True)\n",
    "data['YearBuilt'].fillna(data['YearBuilt'].mean(), inplace = True)\n",
    "data['Lattitude'].fillna(0, inplace = True)\n",
    "data['Longtitude'].fillna(0, inplace = True)\n",
    "data['Propertycount'].fillna(0, inplace = True)"
   ]
  },
  {
   "cell_type": "code",
   "execution_count": 11,
   "metadata": {},
   "outputs": [
    {
     "data": {
      "text/plain": [
       "Suburb           0\n",
       "Address          0\n",
       "Rooms            0\n",
       "Type             0\n",
       "Price            0\n",
       "Method           0\n",
       "SellerG          0\n",
       "Date             0\n",
       "Distance         0\n",
       "Postcode         0\n",
       "Bedroom2         0\n",
       "Bathroom         0\n",
       "Car              0\n",
       "Landsize         0\n",
       "BuildingArea     0\n",
       "YearBuilt        0\n",
       "CouncilArea      3\n",
       "Lattitude        0\n",
       "Longtitude       0\n",
       "Regionname       3\n",
       "Propertycount    0\n",
       "dtype: int64"
      ]
     },
     "execution_count": 11,
     "metadata": {},
     "output_type": "execute_result"
    }
   ],
   "source": [
    "#Cheking the Missing value data after imputation\n",
    "data.isna().sum()"
   ]
  },
  {
   "cell_type": "code",
   "execution_count": 12,
   "metadata": {},
   "outputs": [
    {
     "name": "stdout",
     "output_type": "stream",
     "text": [
      "            Suburb           Address  Rooms Type     Price Method SellerG  \\\n",
      "18523    Footscray  2/16 Stafford St      2    u  710000.0      S     Jas   \n",
      "26888   Camberwell   2/3 Kingsley St      2    h  825000.0     VB  Jellis   \n",
      "29483  Fawkner Lot      1/3 Brian St      3    h  616000.0     SP    Brad   \n",
      "\n",
      "             Date   Distance  Postcode  ...  Bathroom       Car    Landsize  \\\n",
      "18523  15/07/2017   5.100000    3011.0  ...  1.624798  1.728845  593.598993   \n",
      "26888  11/11/2017   7.700000    3124.0  ...  1.624798  1.728845  593.598993   \n",
      "29483   6/01/2018  11.184929       0.0  ...  1.624798  1.728845  593.598993   \n",
      "\n",
      "       BuildingArea    YearBuilt  CouncilArea Lattitude  Longtitude  \\\n",
      "18523      160.2564  1965.289885          NaN       0.0         0.0   \n",
      "26888      160.2564  1965.289885          NaN       0.0         0.0   \n",
      "29483      160.2564  1965.289885          NaN       0.0         0.0   \n",
      "\n",
      "       Regionname Propertycount  \n",
      "18523         NaN           0.0  \n",
      "26888         NaN           0.0  \n",
      "29483         NaN           0.0  \n",
      "\n",
      "[3 rows x 21 columns]\n"
     ]
    }
   ],
   "source": [
    "#To check the rows which have Null Value\n",
    "\n",
    "is_nan = data.isnull()\n",
    "df_has_na = is_nan.any(axis = 1)\n",
    "rows = data[df_has_na]\n",
    "print(rows)"
   ]
  },
  {
   "cell_type": "code",
   "execution_count": 13,
   "metadata": {},
   "outputs": [
    {
     "data": {
      "text/html": [
       "<div>\n",
       "<style scoped>\n",
       "    .dataframe tbody tr th:only-of-type {\n",
       "        vertical-align: middle;\n",
       "    }\n",
       "\n",
       "    .dataframe tbody tr th {\n",
       "        vertical-align: top;\n",
       "    }\n",
       "\n",
       "    .dataframe thead th {\n",
       "        text-align: right;\n",
       "    }\n",
       "</style>\n",
       "<table border=\"1\" class=\"dataframe\">\n",
       "  <thead>\n",
       "    <tr style=\"text-align: right;\">\n",
       "      <th></th>\n",
       "      <th>Suburb</th>\n",
       "      <th>Address</th>\n",
       "      <th>Rooms</th>\n",
       "      <th>Type</th>\n",
       "      <th>Price</th>\n",
       "      <th>Method</th>\n",
       "      <th>SellerG</th>\n",
       "      <th>Date</th>\n",
       "      <th>Distance</th>\n",
       "      <th>Postcode</th>\n",
       "      <th>...</th>\n",
       "      <th>Bathroom</th>\n",
       "      <th>Car</th>\n",
       "      <th>Landsize</th>\n",
       "      <th>BuildingArea</th>\n",
       "      <th>YearBuilt</th>\n",
       "      <th>CouncilArea</th>\n",
       "      <th>Lattitude</th>\n",
       "      <th>Longtitude</th>\n",
       "      <th>Regionname</th>\n",
       "      <th>Propertycount</th>\n",
       "    </tr>\n",
       "  </thead>\n",
       "  <tbody>\n",
       "    <tr>\n",
       "      <th>0</th>\n",
       "      <td>Abbotsford</td>\n",
       "      <td>68 Studley St</td>\n",
       "      <td>2</td>\n",
       "      <td>h</td>\n",
       "      <td>1.050173e+06</td>\n",
       "      <td>SS</td>\n",
       "      <td>Jellis</td>\n",
       "      <td>3/09/2016</td>\n",
       "      <td>2.5</td>\n",
       "      <td>3067.0</td>\n",
       "      <td>...</td>\n",
       "      <td>1.000000</td>\n",
       "      <td>1.000000</td>\n",
       "      <td>126.000000</td>\n",
       "      <td>160.2564</td>\n",
       "      <td>1965.289885</td>\n",
       "      <td>Yarra City Council</td>\n",
       "      <td>-37.80140</td>\n",
       "      <td>144.99580</td>\n",
       "      <td>Northern Metropolitan</td>\n",
       "      <td>4019.0</td>\n",
       "    </tr>\n",
       "    <tr>\n",
       "      <th>1</th>\n",
       "      <td>Abbotsford</td>\n",
       "      <td>85 Turner St</td>\n",
       "      <td>2</td>\n",
       "      <td>h</td>\n",
       "      <td>1.480000e+06</td>\n",
       "      <td>S</td>\n",
       "      <td>Biggin</td>\n",
       "      <td>3/12/2016</td>\n",
       "      <td>2.5</td>\n",
       "      <td>3067.0</td>\n",
       "      <td>...</td>\n",
       "      <td>1.000000</td>\n",
       "      <td>1.000000</td>\n",
       "      <td>202.000000</td>\n",
       "      <td>160.2564</td>\n",
       "      <td>1965.289885</td>\n",
       "      <td>Yarra City Council</td>\n",
       "      <td>-37.79960</td>\n",
       "      <td>144.99840</td>\n",
       "      <td>Northern Metropolitan</td>\n",
       "      <td>4019.0</td>\n",
       "    </tr>\n",
       "    <tr>\n",
       "      <th>2</th>\n",
       "      <td>Abbotsford</td>\n",
       "      <td>25 Bloomburg St</td>\n",
       "      <td>2</td>\n",
       "      <td>h</td>\n",
       "      <td>1.035000e+06</td>\n",
       "      <td>S</td>\n",
       "      <td>Biggin</td>\n",
       "      <td>4/02/2016</td>\n",
       "      <td>2.5</td>\n",
       "      <td>3067.0</td>\n",
       "      <td>...</td>\n",
       "      <td>1.000000</td>\n",
       "      <td>0.000000</td>\n",
       "      <td>156.000000</td>\n",
       "      <td>79.0000</td>\n",
       "      <td>1900.000000</td>\n",
       "      <td>Yarra City Council</td>\n",
       "      <td>-37.80790</td>\n",
       "      <td>144.99340</td>\n",
       "      <td>Northern Metropolitan</td>\n",
       "      <td>4019.0</td>\n",
       "    </tr>\n",
       "    <tr>\n",
       "      <th>3</th>\n",
       "      <td>Abbotsford</td>\n",
       "      <td>18/659 Victoria St</td>\n",
       "      <td>3</td>\n",
       "      <td>u</td>\n",
       "      <td>1.050173e+06</td>\n",
       "      <td>VB</td>\n",
       "      <td>Rounds</td>\n",
       "      <td>4/02/2016</td>\n",
       "      <td>2.5</td>\n",
       "      <td>3067.0</td>\n",
       "      <td>...</td>\n",
       "      <td>2.000000</td>\n",
       "      <td>1.000000</td>\n",
       "      <td>0.000000</td>\n",
       "      <td>160.2564</td>\n",
       "      <td>1965.289885</td>\n",
       "      <td>Yarra City Council</td>\n",
       "      <td>-37.81140</td>\n",
       "      <td>145.01160</td>\n",
       "      <td>Northern Metropolitan</td>\n",
       "      <td>4019.0</td>\n",
       "    </tr>\n",
       "    <tr>\n",
       "      <th>4</th>\n",
       "      <td>Abbotsford</td>\n",
       "      <td>5 Charles St</td>\n",
       "      <td>3</td>\n",
       "      <td>h</td>\n",
       "      <td>1.465000e+06</td>\n",
       "      <td>SP</td>\n",
       "      <td>Biggin</td>\n",
       "      <td>4/03/2017</td>\n",
       "      <td>2.5</td>\n",
       "      <td>3067.0</td>\n",
       "      <td>...</td>\n",
       "      <td>2.000000</td>\n",
       "      <td>0.000000</td>\n",
       "      <td>134.000000</td>\n",
       "      <td>150.0000</td>\n",
       "      <td>1900.000000</td>\n",
       "      <td>Yarra City Council</td>\n",
       "      <td>-37.80930</td>\n",
       "      <td>144.99440</td>\n",
       "      <td>Northern Metropolitan</td>\n",
       "      <td>4019.0</td>\n",
       "    </tr>\n",
       "    <tr>\n",
       "      <th>...</th>\n",
       "      <td>...</td>\n",
       "      <td>...</td>\n",
       "      <td>...</td>\n",
       "      <td>...</td>\n",
       "      <td>...</td>\n",
       "      <td>...</td>\n",
       "      <td>...</td>\n",
       "      <td>...</td>\n",
       "      <td>...</td>\n",
       "      <td>...</td>\n",
       "      <td>...</td>\n",
       "      <td>...</td>\n",
       "      <td>...</td>\n",
       "      <td>...</td>\n",
       "      <td>...</td>\n",
       "      <td>...</td>\n",
       "      <td>...</td>\n",
       "      <td>...</td>\n",
       "      <td>...</td>\n",
       "      <td>...</td>\n",
       "      <td>...</td>\n",
       "    </tr>\n",
       "    <tr>\n",
       "      <th>34852</th>\n",
       "      <td>Yarraville</td>\n",
       "      <td>13 Burns St</td>\n",
       "      <td>4</td>\n",
       "      <td>h</td>\n",
       "      <td>1.480000e+06</td>\n",
       "      <td>PI</td>\n",
       "      <td>Jas</td>\n",
       "      <td>24/02/2018</td>\n",
       "      <td>6.3</td>\n",
       "      <td>3013.0</td>\n",
       "      <td>...</td>\n",
       "      <td>1.000000</td>\n",
       "      <td>3.000000</td>\n",
       "      <td>593.000000</td>\n",
       "      <td>160.2564</td>\n",
       "      <td>1965.289885</td>\n",
       "      <td>Maribyrnong City Council</td>\n",
       "      <td>-37.81053</td>\n",
       "      <td>144.88467</td>\n",
       "      <td>Western Metropolitan</td>\n",
       "      <td>6543.0</td>\n",
       "    </tr>\n",
       "    <tr>\n",
       "      <th>34853</th>\n",
       "      <td>Yarraville</td>\n",
       "      <td>29A Murray St</td>\n",
       "      <td>2</td>\n",
       "      <td>h</td>\n",
       "      <td>8.880000e+05</td>\n",
       "      <td>SP</td>\n",
       "      <td>Sweeney</td>\n",
       "      <td>24/02/2018</td>\n",
       "      <td>6.3</td>\n",
       "      <td>3013.0</td>\n",
       "      <td>...</td>\n",
       "      <td>2.000000</td>\n",
       "      <td>1.000000</td>\n",
       "      <td>98.000000</td>\n",
       "      <td>104.0000</td>\n",
       "      <td>2018.000000</td>\n",
       "      <td>Maribyrnong City Council</td>\n",
       "      <td>-37.81551</td>\n",
       "      <td>144.88826</td>\n",
       "      <td>Western Metropolitan</td>\n",
       "      <td>6543.0</td>\n",
       "    </tr>\n",
       "    <tr>\n",
       "      <th>34854</th>\n",
       "      <td>Yarraville</td>\n",
       "      <td>147A Severn St</td>\n",
       "      <td>2</td>\n",
       "      <td>t</td>\n",
       "      <td>7.050000e+05</td>\n",
       "      <td>S</td>\n",
       "      <td>Jas</td>\n",
       "      <td>24/02/2018</td>\n",
       "      <td>6.3</td>\n",
       "      <td>3013.0</td>\n",
       "      <td>...</td>\n",
       "      <td>1.000000</td>\n",
       "      <td>2.000000</td>\n",
       "      <td>220.000000</td>\n",
       "      <td>120.0000</td>\n",
       "      <td>2000.000000</td>\n",
       "      <td>Maribyrnong City Council</td>\n",
       "      <td>-37.82286</td>\n",
       "      <td>144.87856</td>\n",
       "      <td>Western Metropolitan</td>\n",
       "      <td>6543.0</td>\n",
       "    </tr>\n",
       "    <tr>\n",
       "      <th>34855</th>\n",
       "      <td>Yarraville</td>\n",
       "      <td>12/37 Stephen St</td>\n",
       "      <td>3</td>\n",
       "      <td>h</td>\n",
       "      <td>1.140000e+06</td>\n",
       "      <td>SP</td>\n",
       "      <td>hockingstuart</td>\n",
       "      <td>24/02/2018</td>\n",
       "      <td>6.3</td>\n",
       "      <td>3013.0</td>\n",
       "      <td>...</td>\n",
       "      <td>1.624798</td>\n",
       "      <td>1.728845</td>\n",
       "      <td>593.598993</td>\n",
       "      <td>160.2564</td>\n",
       "      <td>1965.289885</td>\n",
       "      <td>Maribyrnong City Council</td>\n",
       "      <td>0.00000</td>\n",
       "      <td>0.00000</td>\n",
       "      <td>Western Metropolitan</td>\n",
       "      <td>6543.0</td>\n",
       "    </tr>\n",
       "    <tr>\n",
       "      <th>34856</th>\n",
       "      <td>Yarraville</td>\n",
       "      <td>3 Tarrengower St</td>\n",
       "      <td>2</td>\n",
       "      <td>h</td>\n",
       "      <td>1.020000e+06</td>\n",
       "      <td>PI</td>\n",
       "      <td>RW</td>\n",
       "      <td>24/02/2018</td>\n",
       "      <td>6.3</td>\n",
       "      <td>3013.0</td>\n",
       "      <td>...</td>\n",
       "      <td>1.000000</td>\n",
       "      <td>0.000000</td>\n",
       "      <td>250.000000</td>\n",
       "      <td>103.0000</td>\n",
       "      <td>1930.000000</td>\n",
       "      <td>Maribyrnong City Council</td>\n",
       "      <td>-37.81810</td>\n",
       "      <td>144.89351</td>\n",
       "      <td>Western Metropolitan</td>\n",
       "      <td>6543.0</td>\n",
       "    </tr>\n",
       "  </tbody>\n",
       "</table>\n",
       "<p>34854 rows × 21 columns</p>\n",
       "</div>"
      ],
      "text/plain": [
       "           Suburb             Address  Rooms Type         Price Method  \\\n",
       "0      Abbotsford       68 Studley St      2    h  1.050173e+06     SS   \n",
       "1      Abbotsford        85 Turner St      2    h  1.480000e+06      S   \n",
       "2      Abbotsford     25 Bloomburg St      2    h  1.035000e+06      S   \n",
       "3      Abbotsford  18/659 Victoria St      3    u  1.050173e+06     VB   \n",
       "4      Abbotsford        5 Charles St      3    h  1.465000e+06     SP   \n",
       "...           ...                 ...    ...  ...           ...    ...   \n",
       "34852  Yarraville         13 Burns St      4    h  1.480000e+06     PI   \n",
       "34853  Yarraville       29A Murray St      2    h  8.880000e+05     SP   \n",
       "34854  Yarraville      147A Severn St      2    t  7.050000e+05      S   \n",
       "34855  Yarraville    12/37 Stephen St      3    h  1.140000e+06     SP   \n",
       "34856  Yarraville    3 Tarrengower St      2    h  1.020000e+06     PI   \n",
       "\n",
       "             SellerG        Date  Distance  Postcode  ...  Bathroom       Car  \\\n",
       "0             Jellis   3/09/2016       2.5    3067.0  ...  1.000000  1.000000   \n",
       "1             Biggin   3/12/2016       2.5    3067.0  ...  1.000000  1.000000   \n",
       "2             Biggin   4/02/2016       2.5    3067.0  ...  1.000000  0.000000   \n",
       "3             Rounds   4/02/2016       2.5    3067.0  ...  2.000000  1.000000   \n",
       "4             Biggin   4/03/2017       2.5    3067.0  ...  2.000000  0.000000   \n",
       "...              ...         ...       ...       ...  ...       ...       ...   \n",
       "34852            Jas  24/02/2018       6.3    3013.0  ...  1.000000  3.000000   \n",
       "34853        Sweeney  24/02/2018       6.3    3013.0  ...  2.000000  1.000000   \n",
       "34854            Jas  24/02/2018       6.3    3013.0  ...  1.000000  2.000000   \n",
       "34855  hockingstuart  24/02/2018       6.3    3013.0  ...  1.624798  1.728845   \n",
       "34856             RW  24/02/2018       6.3    3013.0  ...  1.000000  0.000000   \n",
       "\n",
       "         Landsize  BuildingArea    YearBuilt               CouncilArea  \\\n",
       "0      126.000000      160.2564  1965.289885        Yarra City Council   \n",
       "1      202.000000      160.2564  1965.289885        Yarra City Council   \n",
       "2      156.000000       79.0000  1900.000000        Yarra City Council   \n",
       "3        0.000000      160.2564  1965.289885        Yarra City Council   \n",
       "4      134.000000      150.0000  1900.000000        Yarra City Council   \n",
       "...           ...           ...          ...                       ...   \n",
       "34852  593.000000      160.2564  1965.289885  Maribyrnong City Council   \n",
       "34853   98.000000      104.0000  2018.000000  Maribyrnong City Council   \n",
       "34854  220.000000      120.0000  2000.000000  Maribyrnong City Council   \n",
       "34855  593.598993      160.2564  1965.289885  Maribyrnong City Council   \n",
       "34856  250.000000      103.0000  1930.000000  Maribyrnong City Council   \n",
       "\n",
       "      Lattitude  Longtitude             Regionname Propertycount  \n",
       "0     -37.80140   144.99580  Northern Metropolitan        4019.0  \n",
       "1     -37.79960   144.99840  Northern Metropolitan        4019.0  \n",
       "2     -37.80790   144.99340  Northern Metropolitan        4019.0  \n",
       "3     -37.81140   145.01160  Northern Metropolitan        4019.0  \n",
       "4     -37.80930   144.99440  Northern Metropolitan        4019.0  \n",
       "...         ...         ...                    ...           ...  \n",
       "34852 -37.81053   144.88467   Western Metropolitan        6543.0  \n",
       "34853 -37.81551   144.88826   Western Metropolitan        6543.0  \n",
       "34854 -37.82286   144.87856   Western Metropolitan        6543.0  \n",
       "34855   0.00000     0.00000   Western Metropolitan        6543.0  \n",
       "34856 -37.81810   144.89351   Western Metropolitan        6543.0  \n",
       "\n",
       "[34854 rows x 21 columns]"
      ]
     },
     "execution_count": 13,
     "metadata": {},
     "output_type": "execute_result"
    }
   ],
   "source": [
    "#Deleting the rows having categorical NA value\n",
    "data.dropna(axis = 0)"
   ]
  },
  {
   "cell_type": "code",
   "execution_count": 14,
   "metadata": {},
   "outputs": [],
   "source": [
    "#Outlier Treatment\n",
    "#Creating a sub dataframe by capturing all the Integer related columns from original Dataframe\n",
    "data_sub = pd.DataFrame(data[['Rooms', 'Price', 'Distance', 'Bedroom2' , 'Bathroom', 'Landsize', 'BuildingArea', 'Propertycount']])"
   ]
  },
  {
   "cell_type": "code",
   "execution_count": 15,
   "metadata": {},
   "outputs": [
    {
     "data": {
      "text/html": [
       "<div>\n",
       "<style scoped>\n",
       "    .dataframe tbody tr th:only-of-type {\n",
       "        vertical-align: middle;\n",
       "    }\n",
       "\n",
       "    .dataframe tbody tr th {\n",
       "        vertical-align: top;\n",
       "    }\n",
       "\n",
       "    .dataframe thead th {\n",
       "        text-align: right;\n",
       "    }\n",
       "</style>\n",
       "<table border=\"1\" class=\"dataframe\">\n",
       "  <thead>\n",
       "    <tr style=\"text-align: right;\">\n",
       "      <th></th>\n",
       "      <th>Rooms</th>\n",
       "      <th>Price</th>\n",
       "      <th>Distance</th>\n",
       "      <th>Bedroom2</th>\n",
       "      <th>Bathroom</th>\n",
       "      <th>Landsize</th>\n",
       "      <th>BuildingArea</th>\n",
       "      <th>Propertycount</th>\n",
       "    </tr>\n",
       "  </thead>\n",
       "  <tbody>\n",
       "    <tr>\n",
       "      <th>0</th>\n",
       "      <td>2</td>\n",
       "      <td>1.050173e+06</td>\n",
       "      <td>2.5</td>\n",
       "      <td>2.0</td>\n",
       "      <td>1.0</td>\n",
       "      <td>126.0</td>\n",
       "      <td>160.2564</td>\n",
       "      <td>4019.0</td>\n",
       "    </tr>\n",
       "    <tr>\n",
       "      <th>1</th>\n",
       "      <td>2</td>\n",
       "      <td>1.480000e+06</td>\n",
       "      <td>2.5</td>\n",
       "      <td>2.0</td>\n",
       "      <td>1.0</td>\n",
       "      <td>202.0</td>\n",
       "      <td>160.2564</td>\n",
       "      <td>4019.0</td>\n",
       "    </tr>\n",
       "    <tr>\n",
       "      <th>2</th>\n",
       "      <td>2</td>\n",
       "      <td>1.035000e+06</td>\n",
       "      <td>2.5</td>\n",
       "      <td>2.0</td>\n",
       "      <td>1.0</td>\n",
       "      <td>156.0</td>\n",
       "      <td>79.0000</td>\n",
       "      <td>4019.0</td>\n",
       "    </tr>\n",
       "  </tbody>\n",
       "</table>\n",
       "</div>"
      ],
      "text/plain": [
       "   Rooms         Price  Distance  Bedroom2  Bathroom  Landsize  BuildingArea  \\\n",
       "0      2  1.050173e+06       2.5       2.0       1.0     126.0      160.2564   \n",
       "1      2  1.480000e+06       2.5       2.0       1.0     202.0      160.2564   \n",
       "2      2  1.035000e+06       2.5       2.0       1.0     156.0       79.0000   \n",
       "\n",
       "   Propertycount  \n",
       "0         4019.0  \n",
       "1         4019.0  \n",
       "2         4019.0  "
      ]
     },
     "execution_count": 15,
     "metadata": {},
     "output_type": "execute_result"
    }
   ],
   "source": [
    "data_sub.head(3)"
   ]
  },
  {
   "cell_type": "code",
   "execution_count": 17,
   "metadata": {},
   "outputs": [],
   "source": [
    "import matplotlib.pyplot as plt"
   ]
  },
  {
   "cell_type": "code",
   "execution_count": 18,
   "metadata": {},
   "outputs": [],
   "source": [
    "#Outlier function\n",
    "\n",
    "def outlier_treatment(x):\n",
    "    q1 = x.quantile(0.25)\n",
    "    q3 = x.quantile(0.75)\n",
    "    iqr = q3 - q1\n",
    "    floor = q1 - 1.5 * iqr\n",
    "    cap = q3 + 1.5  * iqr\n",
    "    return floor, cap"
   ]
  },
  {
   "cell_type": "code",
   "execution_count": 19,
   "metadata": {},
   "outputs": [
    {
     "name": "stdout",
     "output_type": "stream",
     "text": [
      "(-1.0, 7.0)\n"
     ]
    },
    {
     "data": {
      "image/png": "[encoded data removed]",
      "text/plain": [
       "<Figure size 432x288 with 1 Axes>"
      ]
     },
     "metadata": {
      "needs_background": "light"
     },
     "output_type": "display_data"
    }
   ],
   "source": [
    "#Outllier Treatment for Rooms\n",
    "\n",
    "plt.boxplot(data_sub['Rooms'], showmeans = True)\n",
    "plt.xlabel('Rooms')\n",
    "plt.title('Before Outlier Treatment')\n",
    "floor_cap = []\n",
    "floor_cap = outlier_treatment(data_sub['Rooms'])\n",
    "print(floor_cap)\n",
    "data_new = data_sub[((data_sub['Rooms'] > floor_cap[0]) & (data_sub['Rooms'] < floor_cap[1]))]\n",
    "plt.show()"
   ]
  },
  {
   "cell_type": "code",
   "execution_count": 20,
   "metadata": {},
   "outputs": [
    {
     "data": {
      "image/png": "[encoded data removed]",
      "text/plain": [
       "<Figure size 432x288 with 1 Axes>"
      ]
     },
     "metadata": {
      "needs_background": "light"
     },
     "output_type": "display_data"
    }
   ],
   "source": [
    "plt.boxplot(data_new['Rooms'], showmeans = True)\n",
    "plt.xlabel('Rooms')\n",
    "plt.title('After Outlier Treatment')\n",
    "plt.show()"
   ]
  },
  {
   "cell_type": "code",
   "execution_count": 21,
   "metadata": {},
   "outputs": [
    {
     "name": "stdout",
     "output_type": "stream",
     "text": [
      "(12500.0, 1832500.0)\n"
     ]
    },
    {
     "data": {
      "image/png": "[encoded data removed]",
      "text/plain": [
       "<Figure size 432x288 with 1 Axes>"
      ]
     },
     "metadata": {
      "needs_background": "light"
     },
     "output_type": "display_data"
    }
   ],
   "source": [
    "#Outllier Treatment for Price\n",
    "\n",
    "plt.boxplot(data_sub['Price'], showmeans = True)\n",
    "plt.xlabel('Price')\n",
    "plt.title('Before Outlier Treatment')\n",
    "floor_cap = []\n",
    "floor_cap = outlier_treatment(data_sub['Price'])\n",
    "print(floor_cap)\n",
    "data_new = data_sub[((data_sub['Price'] > floor_cap[0]) & (data_sub['Price'] < floor_cap[1]))]\n",
    "plt.show()"
   ]
  },
  {
   "cell_type": "code",
   "execution_count": 22,
   "metadata": {},
   "outputs": [
    {
     "data": {
      "image/png": "[encoded data removed]",
      "text/plain": [
       "<Figure size 432x288 with 1 Axes>"
      ]
     },
     "metadata": {
      "needs_background": "light"
     },
     "output_type": "display_data"
    }
   ],
   "source": [
    "plt.boxplot(data_new['Price'], showmeans = True)\n",
    "plt.xlabel('Price')\n",
    "plt.title('After Outlier Treatment')\n",
    "plt.show()"
   ]
  },
  {
   "cell_type": "code",
   "execution_count": 23,
   "metadata": {},
   "outputs": [
    {
     "name": "stdout",
     "output_type": "stream",
     "text": [
      "(-4.999999999999998, 25.4)\n"
     ]
    },
    {
     "data": {
      "image/png": "[encoded data removed]",
      "text/plain": [
       "<Figure size 432x288 with 1 Axes>"
      ]
     },
     "metadata": {
      "needs_background": "light"
     },
     "output_type": "display_data"
    }
   ],
   "source": [
    "#Outllier Treatment for Distance\n",
    "\n",
    "plt.boxplot(data_sub['Distance'], showmeans = True)\n",
    "plt.xlabel('Distance')\n",
    "plt.title('Before Outlier Treatment')\n",
    "floor_cap = []\n",
    "floor_cap = outlier_treatment(data_sub['Distance'])\n",
    "print(floor_cap)\n",
    "data_new = data_sub[((data_sub['Distance'] > floor_cap[0]) & (data_sub['Distance'] < floor_cap[1]))]\n",
    "plt.show()"
   ]
  },
  {
   "cell_type": "code",
   "execution_count": 24,
   "metadata": {},
   "outputs": [
    {
     "data": {
      "image/png": "[encoded data removed]",
      "text/plain": [
       "<Figure size 432x288 with 1 Axes>"
      ]
     },
     "metadata": {
      "needs_background": "light"
     },
     "output_type": "display_data"
    }
   ],
   "source": [
    "plt.boxplot(data_new['Distance'], showmeans = True)\n",
    "plt.xlabel('Distance')\n",
    "plt.title('After Outlier Treatment')\n",
    "plt.show()"
   ]
  },
  {
   "cell_type": "code",
   "execution_count": 25,
   "metadata": {},
   "outputs": [
    {
     "name": "stdout",
     "output_type": "stream",
     "text": [
      "(2.873029279279279, 3.211617867867868)\n"
     ]
    },
    {
     "data": {
      "image/png": "[encoded data removed]",
      "text/plain": [
       "<Figure size 432x288 with 1 Axes>"
      ]
     },
     "metadata": {
      "needs_background": "light"
     },
     "output_type": "display_data"
    }
   ],
   "source": [
    "#Outllier Treatment for Bedroom\n",
    "\n",
    "plt.boxplot(data_sub['Bedroom2'], showmeans = True)\n",
    "plt.xlabel('Bedroom2')\n",
    "plt.title('Before Outlier Treatment')\n",
    "floor_cap = []\n",
    "floor_cap = outlier_treatment(data_sub['Bedroom2'])\n",
    "print(floor_cap)\n",
    "data_new = data_sub[((data_sub['Bedroom2'] > floor_cap[0]) & (data_sub['Bedroom2'] < floor_cap[1]))]\n",
    "plt.show()"
   ]
  },
  {
   "cell_type": "code",
   "execution_count": 26,
   "metadata": {},
   "outputs": [
    {
     "data": {
      "image/png": "[encoded data removed]",
      "text/plain": [
       "<Figure size 432x288 with 1 Axes>"
      ]
     },
     "metadata": {
      "needs_background": "light"
     },
     "output_type": "display_data"
    }
   ],
   "source": [
    "plt.boxplot(data_new['Bedroom2'], showmeans = True)\n",
    "plt.xlabel('Bedroom2')\n",
    "plt.title('After Outlier Treatment')\n",
    "plt.show()"
   ]
  },
  {
   "cell_type": "code",
   "execution_count": 27,
   "metadata": {},
   "outputs": [
    {
     "name": "stdout",
     "output_type": "stream",
     "text": [
      "(-0.5, 3.5)\n"
     ]
    },
    {
     "data": {
      "image/png": "[encoded data removed]",
      "text/plain": [
       "<Figure size 432x288 with 1 Axes>"
      ]
     },
     "metadata": {
      "needs_background": "light"
     },
     "output_type": "display_data"
    }
   ],
   "source": [
    "#Outllier Treatment for Bathroom\n",
    "\n",
    "plt.boxplot(data_sub['Bathroom'], showmeans = True)\n",
    "plt.xlabel('Bathroom')\n",
    "plt.title('Before Outlier Treatment')\n",
    "floor_cap = []\n",
    "floor_cap = outlier_treatment(data_sub['Bathroom'])\n",
    "print(floor_cap)\n",
    "data_new = data_sub[((data_sub['Bathroom'] > floor_cap[0]) & (data_sub['Bathroom'] < floor_cap[1]))]\n",
    "plt.show()"
   ]
  },
  {
   "cell_type": "code",
   "execution_count": 28,
   "metadata": {},
   "outputs": [
    {
     "data": {
      "image/png": "[encoded data removed]",
      "text/plain": [
       "<Figure size 432x288 with 1 Axes>"
      ]
     },
     "metadata": {
      "needs_background": "light"
     },
     "output_type": "display_data"
    }
   ],
   "source": [
    "plt.boxplot(data_new['Bathroom'], showmeans = True)\n",
    "plt.xlabel('Bathroom')\n",
    "plt.title('After Outlier Treatment')\n",
    "plt.show()"
   ]
  },
  {
   "cell_type": "code",
   "execution_count": 29,
   "metadata": {},
   "outputs": [
    {
     "name": "stdout",
     "output_type": "stream",
     "text": [
      "(-4.5, 959.5)\n"
     ]
    },
    {
     "data": {
      "image/png": "[encoded data removed]",
      "text/plain": [
       "<Figure size 432x288 with 1 Axes>"
      ]
     },
     "metadata": {
      "needs_background": "light"
     },
     "output_type": "display_data"
    }
   ],
   "source": [
    "#Outllier Treatment for Landsize\n",
    "\n",
    "plt.boxplot(data_sub['Landsize'], showmeans = True)\n",
    "plt.xlabel('Landsize')\n",
    "plt.title('Before Outlier Treatment')\n",
    "floor_cap = []\n",
    "floor_cap = outlier_treatment(data_sub['Landsize'])\n",
    "print(floor_cap)\n",
    "data_new = data_sub[((data_sub['Landsize'] > floor_cap[0]) & (data_sub['Landsize'] < floor_cap[1]))]\n",
    "plt.show()"
   ]
  },
  {
   "cell_type": "code",
   "execution_count": 30,
   "metadata": {},
   "outputs": [
    {
     "data": {
      "image/png": "[encoded data removed]",
      "text/plain": [
       "<Figure size 432x288 with 1 Axes>"
      ]
     },
     "metadata": {
      "needs_background": "light"
     },
     "output_type": "display_data"
    }
   ],
   "source": [
    "plt.boxplot(data_new['Landsize'], showmeans = True)\n",
    "plt.xlabel('Landsize')\n",
    "plt.title('After Outlier Treatment')\n",
    "plt.show()"
   ]
  },
  {
   "cell_type": "code",
   "execution_count": 31,
   "metadata": {},
   "outputs": [
    {
     "name": "stdout",
     "output_type": "stream",
     "text": [
      "(159.61539946514335, 160.64100089142778)\n"
     ]
    },
    {
     "data": {
      "image/png": "[encoded data removed]",
      "text/plain": [
       "<Figure size 432x288 with 1 Axes>"
      ]
     },
     "metadata": {
      "needs_background": "light"
     },
     "output_type": "display_data"
    }
   ],
   "source": [
    "#Outllier Treatment for BuildingArea\n",
    "\n",
    "plt.boxplot(data_sub['BuildingArea'], showmeans = True)\n",
    "plt.xlabel('BuildingArea')\n",
    "plt.title('Before Outlier Treatment')\n",
    "floor_cap = []\n",
    "floor_cap = outlier_treatment(data_sub['BuildingArea'])\n",
    "print(floor_cap)\n",
    "data_new = data_sub[((data_sub['BuildingArea'] > floor_cap[0]) & (data_sub['BuildingArea'] < floor_cap[1]))]\n",
    "plt.show()"
   ]
  },
  {
   "cell_type": "code",
   "execution_count": 32,
   "metadata": {},
   "outputs": [
    {
     "data": {
      "image/png": "[encoded data removed]",
      "text/plain": [
       "<Figure size 432x288 with 1 Axes>"
      ]
     },
     "metadata": {
      "needs_background": "light"
     },
     "output_type": "display_data"
    }
   ],
   "source": [
    "plt.boxplot(data_new['BuildingArea'], showmeans = True)\n",
    "plt.xlabel('BuildingArea')\n",
    "plt.title('After Outlier Treatment')\n",
    "plt.show()"
   ]
  },
  {
   "cell_type": "code",
   "execution_count": 33,
   "metadata": {},
   "outputs": [
    {
     "name": "stdout",
     "output_type": "stream",
     "text": [
      "(-4655.5, 19452.5)\n"
     ]
    },
    {
     "data": {
      "image/png": "[encoded data removed]",
      "text/plain": [
       "<Figure size 432x288 with 1 Axes>"
      ]
     },
     "metadata": {
      "needs_background": "light"
     },
     "output_type": "display_data"
    }
   ],
   "source": [
    "#Outllier Treatment for Landsize\n",
    "\n",
    "plt.boxplot(data_sub['Propertycount'], showmeans = True)\n",
    "plt.xlabel('Propertycount')\n",
    "plt.title('Before Outlier Treatment')\n",
    "floor_cap = []\n",
    "floor_cap = outlier_treatment(data_sub['Propertycount'])\n",
    "print(floor_cap)\n",
    "data_new = data_sub[((data_sub['Propertycount'] > floor_cap[0]) & (data_sub['Propertycount'] < floor_cap[1]))]\n",
    "plt.show()"
   ]
  },
  {
   "cell_type": "code",
   "execution_count": 34,
   "metadata": {},
   "outputs": [
    {
     "data": {
      "image/png": "[encoded data removed]",
      "text/plain": [
       "<Figure size 432x288 with 1 Axes>"
      ]
     },
     "metadata": {
      "needs_background": "light"
     },
     "output_type": "display_data"
    }
   ],
   "source": [
    "plt.boxplot(data_new['Propertycount'], showmeans = True)\n",
    "plt.xlabel('Propertycount')\n",
    "plt.title('After Outlier Treatment')\n",
    "plt.show()"
   ]
  },
  {
   "cell_type": "code",
   "execution_count": 50,
   "metadata": {},
   "outputs": [
    {
     "data": {
      "text/html": [
       "<div>\n",
       "<style scoped>\n",
       "    .dataframe tbody tr th:only-of-type {\n",
       "        vertical-align: middle;\n",
       "    }\n",
       "\n",
       "    .dataframe tbody tr th {\n",
       "        vertical-align: top;\n",
       "    }\n",
       "\n",
       "    .dataframe thead th {\n",
       "        text-align: right;\n",
       "    }\n",
       "</style>\n",
       "<table border=\"1\" class=\"dataframe\">\n",
       "  <thead>\n",
       "    <tr style=\"text-align: right;\">\n",
       "      <th></th>\n",
       "      <th>Rooms</th>\n",
       "      <th>Price</th>\n",
       "      <th>Distance</th>\n",
       "      <th>Bedroom2</th>\n",
       "      <th>Bathroom</th>\n",
       "      <th>Landsize</th>\n",
       "      <th>BuildingArea</th>\n",
       "      <th>Propertycount</th>\n",
       "      <th>Log of Rooms</th>\n",
       "    </tr>\n",
       "  </thead>\n",
       "  <tbody>\n",
       "    <tr>\n",
       "      <th>0</th>\n",
       "      <td>2</td>\n",
       "      <td>1.050173e+06</td>\n",
       "      <td>2.5</td>\n",
       "      <td>2.0</td>\n",
       "      <td>1.0</td>\n",
       "      <td>126.0</td>\n",
       "      <td>160.2564</td>\n",
       "      <td>4019.0</td>\n",
       "      <td>0</td>\n",
       "    </tr>\n",
       "    <tr>\n",
       "      <th>1</th>\n",
       "      <td>2</td>\n",
       "      <td>1.480000e+06</td>\n",
       "      <td>2.5</td>\n",
       "      <td>2.0</td>\n",
       "      <td>1.0</td>\n",
       "      <td>202.0</td>\n",
       "      <td>160.2564</td>\n",
       "      <td>4019.0</td>\n",
       "      <td>0</td>\n",
       "    </tr>\n",
       "    <tr>\n",
       "      <th>2</th>\n",
       "      <td>2</td>\n",
       "      <td>1.035000e+06</td>\n",
       "      <td>2.5</td>\n",
       "      <td>2.0</td>\n",
       "      <td>1.0</td>\n",
       "      <td>156.0</td>\n",
       "      <td>79.0000</td>\n",
       "      <td>4019.0</td>\n",
       "      <td>0</td>\n",
       "    </tr>\n",
       "  </tbody>\n",
       "</table>\n",
       "</div>"
      ],
      "text/plain": [
       "   Rooms         Price  Distance  Bedroom2  Bathroom  Landsize  BuildingArea  \\\n",
       "0      2  1.050173e+06       2.5       2.0       1.0     126.0      160.2564   \n",
       "1      2  1.480000e+06       2.5       2.0       1.0     202.0      160.2564   \n",
       "2      2  1.035000e+06       2.5       2.0       1.0     156.0       79.0000   \n",
       "\n",
       "   Propertycount  Log of Rooms  \n",
       "0         4019.0             0  \n",
       "1         4019.0             0  \n",
       "2         4019.0             0  "
      ]
     },
     "execution_count": 50,
     "metadata": {},
     "output_type": "execute_result"
    }
   ],
   "source": [
    "data_sub.head(3)"
   ]
  },
  {
   "cell_type": "code",
   "execution_count": 71,
   "metadata": {},
   "outputs": [
    {
     "data": {
      "text/plain": [
       "Text(0.5, 1.0, 'Rooms vs Price')"
      ]
     },
     "execution_count": 71,
     "metadata": {},
     "output_type": "execute_result"
    },
    {
     "data": {
      "image/png": "[encoded data removed]",
      "text/plain": [
       "<Figure size 432x288 with 1 Axes>"
      ]
     },
     "metadata": {
      "needs_background": "light"
     },
     "output_type": "display_data"
    }
   ],
   "source": [
    "#Feature Enginerring on Rooms\n",
    "plt.scatter(data_sub['Rooms'], data_sub['Price'])\n",
    "plt.xlabel('Rooms')\n",
    "plt.ylabel('Price')\n",
    "plt.title('Rooms vs Price')"
   ]
  },
  {
   "cell_type": "code",
   "execution_count": 54,
   "metadata": {},
   "outputs": [],
   "source": [
    "#Feature Transformation\n",
    "#As count of Room is very low and value of Price is comparitively high hence Reciprocal of Room is done\n",
    "data_sub['Reciprocal of Rooms'] = np.reciprocal(data_sub['Rooms'])"
   ]
  },
  {
   "cell_type": "code",
   "execution_count": 72,
   "metadata": {},
   "outputs": [
    {
     "data": {
      "image/png": "[encoded data removed]",
      "text/plain": [
       "<Figure size 432x288 with 1 Axes>"
      ]
     },
     "metadata": {
      "needs_background": "light"
     },
     "output_type": "display_data"
    }
   ],
   "source": [
    "plt.scatter(data_sub['Reciprocal of Rooms'], data_sub['Price'])\n",
    "plt.plot(data_sub['Reciprocal of Rooms'], data_sub['Price'])\n",
    "plt.xlabel('Reciprocal of Rooms')\n",
    "plt.ylabel('Price')\n",
    "plt.title('Reciprocal of Rooms vs Price')\n",
    "plt.show()"
   ]
  },
  {
   "cell_type": "code",
   "execution_count": 73,
   "metadata": {},
   "outputs": [
    {
     "data": {
      "text/plain": [
       "Text(0.5, 1.0, 'Bedroom vs Price')"
      ]
     },
     "execution_count": 73,
     "metadata": {},
     "output_type": "execute_result"
    },
    {
     "data": {
      "image/png": "[encoded data removed]",
      "text/plain": [
       "<Figure size 432x288 with 1 Axes>"
      ]
     },
     "metadata": {
      "needs_background": "light"
     },
     "output_type": "display_data"
    }
   ],
   "source": [
    "#Feature Engineering on Bedroom\n",
    "plt.scatter(data_sub['Bedroom2'], data_sub['Price'])\n",
    "plt.xlabel('Bedroom2')\n",
    "plt.ylabel('Price')\n",
    "plt.title('Bedroom vs Price')"
   ]
  },
  {
   "cell_type": "code",
   "execution_count": 78,
   "metadata": {},
   "outputs": [],
   "source": [
    "#Feature Transformation\n",
    "#As count of Bedroom is very low and value of Price is comparitively high hence Square of Bedroom is done\n",
    "data_sub['Square of Bedroom'] = np.square(data_sub['Bedroom2'])"
   ]
  },
  {
   "cell_type": "code",
   "execution_count": 79,
   "metadata": {},
   "outputs": [
    {
     "data": {
      "text/plain": [
       "Text(0.5, 1.0, 'Square of Bedroom vs Price')"
      ]
     },
     "execution_count": 79,
     "metadata": {},
     "output_type": "execute_result"
    },
    {
     "data": {
      "image/png": "[encoded data removed]",
      "text/plain": [
       "<Figure size 432x288 with 1 Axes>"
      ]
     },
     "metadata": {
      "needs_background": "light"
     },
     "output_type": "display_data"
    }
   ],
   "source": [
    "plt.scatter(data_sub['Square of Bedroom'], data_sub['Price'])\n",
    "plt.xlabel('Square of Bedroom')\n",
    "plt.ylabel('Price')\n",
    "plt.title('Square of Bedroom vs Price')"
   ]
  },
  {
   "cell_type": "code",
   "execution_count": 80,
   "metadata": {},
   "outputs": [
    {
     "data": {
      "text/plain": [
       "Text(0.5, 1.0, 'Landsize vs Price')"
      ]
     },
     "execution_count": 80,
     "metadata": {},
     "output_type": "execute_result"
    },
    {
     "data": {
      "image/png": "[encoded data removed]",
      "text/plain": [
       "<Figure size 432x288 with 1 Axes>"
      ]
     },
     "metadata": {
      "needs_background": "light"
     },
     "output_type": "display_data"
    }
   ],
   "source": [
    "#Feature Enginerring on Landsize\n",
    "plt.scatter(data_sub['Landsize'], data_sub['Price'])\n",
    "plt.xlabel('Landsize')\n",
    "plt.ylabel('Price')\n",
    "plt.title('Landsize vs Price')"
   ]
  },
  {
   "cell_type": "code",
   "execution_count": 84,
   "metadata": {},
   "outputs": [],
   "source": [
    "#Feature Transformation\n",
    "#As count of Landsize is very low and value of Price is comparitively high hence Square of Landsize is done\n",
    "data_sub['Square of Landsize'] = np.square(data_sub['Landsize'])"
   ]
  },
  {
   "cell_type": "code",
   "execution_count": 85,
   "metadata": {},
   "outputs": [
    {
     "data": {
      "text/plain": [
       "Text(0.5, 1.0, 'Square of Bedroom vs Price')"
      ]
     },
     "execution_count": 85,
     "metadata": {},
     "output_type": "execute_result"
    },
    {
     "data": {
      "image/png": "[encoded data removed]",
      "text/plain": [
       "<Figure size 432x288 with 1 Axes>"
      ]
     },
     "metadata": {
      "needs_background": "light"
     },
     "output_type": "display_data"
    }
   ],
   "source": [
    "plt.scatter(data_sub['Square of Landsize'], data_sub['Price'])\n",
    "plt.xlabel('Square of Landsize')\n",
    "plt.ylabel('Price')\n",
    "plt.title('Square of Bedroom vs Price')"
   ]
  },
  {
   "cell_type": "code",
   "execution_count": 86,
   "metadata": {},
   "outputs": [
    {
     "data": {
      "text/plain": [
       "Text(0.5, 1.0, 'Building Area vs Price')"
      ]
     },
     "execution_count": 86,
     "metadata": {},
     "output_type": "execute_result"
    },
    {
     "data": {
      "image/png": "[encoded data removed]",
      "text/plain": [
       "<Figure size 432x288 with 1 Axes>"
      ]
     },
     "metadata": {
      "needs_background": "light"
     },
     "output_type": "display_data"
    }
   ],
   "source": [
    "#Feature Enginerring on Building Area\n",
    "plt.scatter(data_sub['BuildingArea'], data_sub['Price'])\n",
    "plt.xlabel('Building Area')\n",
    "plt.ylabel('Price')\n",
    "plt.title('Building Area vs Price')"
   ]
  },
  {
   "cell_type": "code",
   "execution_count": 87,
   "metadata": {},
   "outputs": [],
   "source": [
    "#Feature Transformation\n",
    "#As count of Building Area is very low and value of Price is comparitively high hence Square of Building Area is done\n",
    "data_sub['Square of BuildingArea'] = np.square(data_sub['BuildingArea'])"
   ]
  },
  {
   "cell_type": "code",
   "execution_count": 88,
   "metadata": {},
   "outputs": [
    {
     "data": {
      "text/plain": [
       "Text(0.5, 1.0, 'Square of Building Area vs Price')"
      ]
     },
     "execution_count": 88,
     "metadata": {},
     "output_type": "execute_result"
    },
    {
     "data": {
      "image/png": "[encoded data removed]",
      "text/plain": [
       "<Figure size 432x288 with 1 Axes>"
      ]
     },
     "metadata": {
      "needs_background": "light"
     },
     "output_type": "display_data"
    }
   ],
   "source": [
    "plt.scatter(data_sub['Square of BuildingArea'], data_sub['Price'])\n",
    "plt.xlabel('Square of Building Area')\n",
    "plt.ylabel('Price')\n",
    "plt.title('Square of Building Area vs Price')"
   ]
  },
  {
   "cell_type": "code",
   "execution_count": 89,
   "metadata": {},
   "outputs": [
    {
     "data": {
      "text/plain": [
       "Text(0.5, 1.0, 'Property Count vs Price')"
      ]
     },
     "execution_count": 89,
     "metadata": {},
     "output_type": "execute_result"
    },
    {
     "data": {
      "image/png": "[encoded data removed]",
      "text/plain": [
       "<Figure size 432x288 with 1 Axes>"
      ]
     },
     "metadata": {
      "needs_background": "light"
     },
     "output_type": "display_data"
    }
   ],
   "source": [
    "#Feature Enginerring on Property Count\n",
    "plt.scatter(data_sub['Propertycount'], data_sub['Price'])\n",
    "plt.xlabel('Property Count')\n",
    "plt.ylabel('Price')\n",
    "plt.title('Property Count vs Price')"
   ]
  },
  {
   "cell_type": "code",
   "execution_count": 112,
   "metadata": {},
   "outputs": [],
   "source": [
    "#Feature Transformation\n",
    "#As count of Building Area is very low and value of Price is comparitively high hence Square of Building Area is done\n",
    "data_sub['Reciprocal of Property Count'] = np.reciprocal(data_sub['Propertycount'])"
   ]
  },
  {
   "cell_type": "code",
   "execution_count": 113,
   "metadata": {},
   "outputs": [
    {
     "data": {
      "text/plain": [
       "Text(0.5, 1.0, 'Reciprocal of Property Count vs Price')"
      ]
     },
     "execution_count": 113,
     "metadata": {},
     "output_type": "execute_result"
    },
    {
     "data": {
      "image/png": "[encoded data removed]",
      "text/plain": [
       "<Figure size 432x288 with 1 Axes>"
      ]
     },
     "metadata": {
      "needs_background": "light"
     },
     "output_type": "display_data"
    }
   ],
   "source": [
    "plt.scatter(data_sub['Reciprocal of Property Count'], data_sub['Price'])\n",
    "plt.xlabel('Reciprocal of Property Count')\n",
    "plt.ylabel('Price')\n",
    "plt.title('Reciprocal of Property Count vs Price')"
   ]
  },
  {
   "cell_type": "code",
   "execution_count": 114,
   "metadata": {},
   "outputs": [
    {
     "data": {
      "text/html": [
       "<div>\n",
       "<style scoped>\n",
       "    .dataframe tbody tr th:only-of-type {\n",
       "        vertical-align: middle;\n",
       "    }\n",
       "\n",
       "    .dataframe tbody tr th {\n",
       "        vertical-align: top;\n",
       "    }\n",
       "\n",
       "    .dataframe thead th {\n",
       "        text-align: right;\n",
       "    }\n",
       "</style>\n",
       "<table border=\"1\" class=\"dataframe\">\n",
       "  <thead>\n",
       "    <tr style=\"text-align: right;\">\n",
       "      <th></th>\n",
       "      <th>Rooms</th>\n",
       "      <th>Price</th>\n",
       "      <th>Distance</th>\n",
       "      <th>Bedroom2</th>\n",
       "      <th>Bathroom</th>\n",
       "      <th>Landsize</th>\n",
       "      <th>BuildingArea</th>\n",
       "      <th>Propertycount</th>\n",
       "      <th>Log of Rooms</th>\n",
       "      <th>Reciprocal of Rooms</th>\n",
       "      <th>Reciprocal of Distance</th>\n",
       "      <th>Reciprocal of Bedroom</th>\n",
       "      <th>Square of Bedroom</th>\n",
       "      <th>Reciprocal of Landsize</th>\n",
       "      <th>Square of Landsize</th>\n",
       "      <th>Square of BuildingArea</th>\n",
       "      <th>Square of Property Count</th>\n",
       "      <th>Reciprocal of Property Count</th>\n",
       "    </tr>\n",
       "  </thead>\n",
       "  <tbody>\n",
       "    <tr>\n",
       "      <th>0</th>\n",
       "      <td>2</td>\n",
       "      <td>1.050173e+06</td>\n",
       "      <td>2.5</td>\n",
       "      <td>2.0</td>\n",
       "      <td>1.0</td>\n",
       "      <td>126.0</td>\n",
       "      <td>160.2564</td>\n",
       "      <td>4019.0</td>\n",
       "      <td>0</td>\n",
       "      <td>0</td>\n",
       "      <td>0.957231</td>\n",
       "      <td>4.0</td>\n",
       "      <td>4.0</td>\n",
       "      <td>15876.0</td>\n",
       "      <td>15876.0</td>\n",
       "      <td>25682.113855</td>\n",
       "      <td>0.000249</td>\n",
       "      <td>0.000249</td>\n",
       "    </tr>\n",
       "    <tr>\n",
       "      <th>1</th>\n",
       "      <td>2</td>\n",
       "      <td>1.480000e+06</td>\n",
       "      <td>2.5</td>\n",
       "      <td>2.0</td>\n",
       "      <td>1.0</td>\n",
       "      <td>202.0</td>\n",
       "      <td>160.2564</td>\n",
       "      <td>4019.0</td>\n",
       "      <td>0</td>\n",
       "      <td>0</td>\n",
       "      <td>0.957231</td>\n",
       "      <td>4.0</td>\n",
       "      <td>4.0</td>\n",
       "      <td>40804.0</td>\n",
       "      <td>40804.0</td>\n",
       "      <td>25682.113855</td>\n",
       "      <td>0.000249</td>\n",
       "      <td>0.000249</td>\n",
       "    </tr>\n",
       "    <tr>\n",
       "      <th>2</th>\n",
       "      <td>2</td>\n",
       "      <td>1.035000e+06</td>\n",
       "      <td>2.5</td>\n",
       "      <td>2.0</td>\n",
       "      <td>1.0</td>\n",
       "      <td>156.0</td>\n",
       "      <td>79.0000</td>\n",
       "      <td>4019.0</td>\n",
       "      <td>0</td>\n",
       "      <td>0</td>\n",
       "      <td>0.957231</td>\n",
       "      <td>4.0</td>\n",
       "      <td>4.0</td>\n",
       "      <td>24336.0</td>\n",
       "      <td>24336.0</td>\n",
       "      <td>6241.000000</td>\n",
       "      <td>0.000249</td>\n",
       "      <td>0.000249</td>\n",
       "    </tr>\n",
       "  </tbody>\n",
       "</table>\n",
       "</div>"
      ],
      "text/plain": [
       "   Rooms         Price  Distance  Bedroom2  Bathroom  Landsize  BuildingArea  \\\n",
       "0      2  1.050173e+06       2.5       2.0       1.0     126.0      160.2564   \n",
       "1      2  1.480000e+06       2.5       2.0       1.0     202.0      160.2564   \n",
       "2      2  1.035000e+06       2.5       2.0       1.0     156.0       79.0000   \n",
       "\n",
       "   Propertycount  Log of Rooms  Reciprocal of Rooms  Reciprocal of Distance  \\\n",
       "0         4019.0             0                    0                0.957231   \n",
       "1         4019.0             0                    0                0.957231   \n",
       "2         4019.0             0                    0                0.957231   \n",
       "\n",
       "   Reciprocal of Bedroom  Square of Bedroom  Reciprocal of Landsize  \\\n",
       "0                    4.0                4.0                 15876.0   \n",
       "1                    4.0                4.0                 40804.0   \n",
       "2                    4.0                4.0                 24336.0   \n",
       "\n",
       "   Square of Landsize  Square of BuildingArea  Square of Property Count  \\\n",
       "0             15876.0            25682.113855                  0.000249   \n",
       "1             40804.0            25682.113855                  0.000249   \n",
       "2             24336.0             6241.000000                  0.000249   \n",
       "\n",
       "   Reciprocal of Property Count  \n",
       "0                      0.000249  \n",
       "1                      0.000249  \n",
       "2                      0.000249  "
      ]
     },
     "execution_count": 114,
     "metadata": {},
     "output_type": "execute_result"
    }
   ],
   "source": [
    "data_sub.head(3)"
   ]
  },
  {
   "cell_type": "code",
   "execution_count": 115,
   "metadata": {},
   "outputs": [],
   "source": [
    "#Creating a new dataframe to perform Standardization\n",
    "data_std = pd.DataFrame(data[['Rooms', 'Price', 'Distance', 'Bedroom2' , 'Bathroom', 'Landsize', 'BuildingArea', 'Propertycount']]) "
   ]
  },
  {
   "cell_type": "code",
   "execution_count": 116,
   "metadata": {},
   "outputs": [
    {
     "data": {
      "text/html": [
       "<div>\n",
       "<style scoped>\n",
       "    .dataframe tbody tr th:only-of-type {\n",
       "        vertical-align: middle;\n",
       "    }\n",
       "\n",
       "    .dataframe tbody tr th {\n",
       "        vertical-align: top;\n",
       "    }\n",
       "\n",
       "    .dataframe thead th {\n",
       "        text-align: right;\n",
       "    }\n",
       "</style>\n",
       "<table border=\"1\" class=\"dataframe\">\n",
       "  <thead>\n",
       "    <tr style=\"text-align: right;\">\n",
       "      <th></th>\n",
       "      <th>Rooms</th>\n",
       "      <th>Price</th>\n",
       "      <th>Distance</th>\n",
       "      <th>Bedroom2</th>\n",
       "      <th>Bathroom</th>\n",
       "      <th>Landsize</th>\n",
       "      <th>BuildingArea</th>\n",
       "      <th>Propertycount</th>\n",
       "    </tr>\n",
       "  </thead>\n",
       "  <tbody>\n",
       "    <tr>\n",
       "      <th>0</th>\n",
       "      <td>2</td>\n",
       "      <td>1.050173e+06</td>\n",
       "      <td>2.5</td>\n",
       "      <td>2.0</td>\n",
       "      <td>1.0</td>\n",
       "      <td>126.0</td>\n",
       "      <td>160.2564</td>\n",
       "      <td>4019.0</td>\n",
       "    </tr>\n",
       "    <tr>\n",
       "      <th>1</th>\n",
       "      <td>2</td>\n",
       "      <td>1.480000e+06</td>\n",
       "      <td>2.5</td>\n",
       "      <td>2.0</td>\n",
       "      <td>1.0</td>\n",
       "      <td>202.0</td>\n",
       "      <td>160.2564</td>\n",
       "      <td>4019.0</td>\n",
       "    </tr>\n",
       "    <tr>\n",
       "      <th>2</th>\n",
       "      <td>2</td>\n",
       "      <td>1.035000e+06</td>\n",
       "      <td>2.5</td>\n",
       "      <td>2.0</td>\n",
       "      <td>1.0</td>\n",
       "      <td>156.0</td>\n",
       "      <td>79.0000</td>\n",
       "      <td>4019.0</td>\n",
       "    </tr>\n",
       "  </tbody>\n",
       "</table>\n",
       "</div>"
      ],
      "text/plain": [
       "   Rooms         Price  Distance  Bedroom2  Bathroom  Landsize  BuildingArea  \\\n",
       "0      2  1.050173e+06       2.5       2.0       1.0     126.0      160.2564   \n",
       "1      2  1.480000e+06       2.5       2.0       1.0     202.0      160.2564   \n",
       "2      2  1.035000e+06       2.5       2.0       1.0     156.0       79.0000   \n",
       "\n",
       "   Propertycount  \n",
       "0         4019.0  \n",
       "1         4019.0  \n",
       "2         4019.0  "
      ]
     },
     "execution_count": 116,
     "metadata": {},
     "output_type": "execute_result"
    }
   ],
   "source": [
    "data_std.head(3)"
   ]
  },
  {
   "cell_type": "code",
   "execution_count": 122,
   "metadata": {},
   "outputs": [],
   "source": [
    "from scipy import stats"
   ]
  },
  {
   "cell_type": "code",
   "execution_count": 126,
   "metadata": {},
   "outputs": [],
   "source": [
    "#Standardization\n",
    "\n",
    "int_c = data_std.select_dtypes(['int64', 'float64']).columns\n",
    "data_stdnew = data_std[int_c].apply(stats.zscore)"
   ]
  },
  {
   "cell_type": "code",
   "execution_count": 127,
   "metadata": {},
   "outputs": [
    {
     "data": {
      "text/html": [
       "<div>\n",
       "<style scoped>\n",
       "    .dataframe tbody tr th:only-of-type {\n",
       "        vertical-align: middle;\n",
       "    }\n",
       "\n",
       "    .dataframe tbody tr th {\n",
       "        vertical-align: top;\n",
       "    }\n",
       "\n",
       "    .dataframe thead th {\n",
       "        text-align: right;\n",
       "    }\n",
       "</style>\n",
       "<table border=\"1\" class=\"dataframe\">\n",
       "  <thead>\n",
       "    <tr style=\"text-align: right;\">\n",
       "      <th></th>\n",
       "      <th>Rooms</th>\n",
       "      <th>Price</th>\n",
       "      <th>Distance</th>\n",
       "      <th>Bedroom2</th>\n",
       "      <th>Bathroom</th>\n",
       "      <th>Landsize</th>\n",
       "      <th>BuildingArea</th>\n",
       "      <th>Propertycount</th>\n",
       "    </tr>\n",
       "  </thead>\n",
       "  <tbody>\n",
       "    <tr>\n",
       "      <th>0</th>\n",
       "      <td>-1.062988</td>\n",
       "      <td>0.000000</td>\n",
       "      <td>-1.279322</td>\n",
       "      <td>-1.265153</td>\n",
       "      <td>-0.987037</td>\n",
       "      <td>-0.169196</td>\n",
       "      <td>1.128113e-16</td>\n",
       "      <td>-0.802376</td>\n",
       "    </tr>\n",
       "    <tr>\n",
       "      <th>1</th>\n",
       "      <td>-1.062988</td>\n",
       "      <td>0.757901</td>\n",
       "      <td>-1.279322</td>\n",
       "      <td>-1.265153</td>\n",
       "      <td>-0.987037</td>\n",
       "      <td>-0.141696</td>\n",
       "      <td>1.128113e-16</td>\n",
       "      <td>-0.802376</td>\n",
       "    </tr>\n",
       "    <tr>\n",
       "      <th>2</th>\n",
       "      <td>-1.062988</td>\n",
       "      <td>-0.026755</td>\n",
       "      <td>-1.279322</td>\n",
       "      <td>-1.265153</td>\n",
       "      <td>-0.987037</td>\n",
       "      <td>-0.158341</td>\n",
       "      <td>-3.225224e-01</td>\n",
       "      <td>-0.802376</td>\n",
       "    </tr>\n",
       "  </tbody>\n",
       "</table>\n",
       "</div>"
      ],
      "text/plain": [
       "      Rooms     Price  Distance  Bedroom2  Bathroom  Landsize  BuildingArea  \\\n",
       "0 -1.062988  0.000000 -1.279322 -1.265153 -0.987037 -0.169196  1.128113e-16   \n",
       "1 -1.062988  0.757901 -1.279322 -1.265153 -0.987037 -0.141696  1.128113e-16   \n",
       "2 -1.062988 -0.026755 -1.279322 -1.265153 -0.987037 -0.158341 -3.225224e-01   \n",
       "\n",
       "   Propertycount  \n",
       "0      -0.802376  \n",
       "1      -0.802376  \n",
       "2      -0.802376  "
      ]
     },
     "execution_count": 127,
     "metadata": {},
     "output_type": "execute_result"
    }
   ],
   "source": [
    "data_stdnew.head(3)"
   ]
  },
  {
   "cell_type": "code",
   "execution_count": null,
   "metadata": {},
   "outputs": [],
   "source": []
  }
 ],
 "metadata": {
  "kernelspec": {
   "display_name": "Python 3",
   "language": "python",
   "name": "python3"
  },
  "language_info": {
   "codemirror_mode": {
    "name": "ipython",
    "version": 3
   },
   "file_extension": ".py",
   "mimetype": "text/x-python",
   "name": "python",
   "nbconvert_exporter": "python",
   "pygments_lexer": "ipython3",
   "version": "3.7.6"
  }
 },
 "nbformat": 4,
 "nbformat_minor": 4
}
